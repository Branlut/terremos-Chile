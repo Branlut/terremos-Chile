{
 "cells": [
  {
   "cell_type": "code",
   "execution_count": 1,
   "id": "d84a3929",
   "metadata": {},
   "outputs": [],
   "source": [
    "import pandas as pd"
   ]
  },
  {
   "cell_type": "code",
   "execution_count": 2,
   "id": "e946fc40",
   "metadata": {},
   "outputs": [
    {
     "data": {
      "text/html": [
       "<div>\n",
       "<style scoped>\n",
       "    .dataframe tbody tr th:only-of-type {\n",
       "        vertical-align: middle;\n",
       "    }\n",
       "\n",
       "    .dataframe tbody tr th {\n",
       "        vertical-align: top;\n",
       "    }\n",
       "\n",
       "    .dataframe thead th {\n",
       "        text-align: right;\n",
       "    }\n",
       "</style>\n",
       "<table border=\"1\" class=\"dataframe\">\n",
       "  <thead>\n",
       "    <tr style=\"text-align: right;\">\n",
       "      <th></th>\n",
       "      <th>Date(UTC)</th>\n",
       "      <th>Latitude</th>\n",
       "      <th>Longitude</th>\n",
       "      <th>Depth</th>\n",
       "      <th>Magnitude</th>\n",
       "    </tr>\n",
       "  </thead>\n",
       "  <tbody>\n",
       "    <tr>\n",
       "      <th>0</th>\n",
       "      <td>2025-05-26 03:50:27</td>\n",
       "      <td>-19.63</td>\n",
       "      <td>-69.49</td>\n",
       "      <td>97</td>\n",
       "      <td>5.6</td>\n",
       "    </tr>\n",
       "    <tr>\n",
       "      <th>1</th>\n",
       "      <td>2025-05-13 00:47:58</td>\n",
       "      <td>-51.25</td>\n",
       "      <td>-72.28</td>\n",
       "      <td>28</td>\n",
       "      <td>5.1</td>\n",
       "    </tr>\n",
       "    <tr>\n",
       "      <th>2</th>\n",
       "      <td>2025-05-05 09:46:48</td>\n",
       "      <td>-29.49</td>\n",
       "      <td>-71.84</td>\n",
       "      <td>48</td>\n",
       "      <td>5.0</td>\n",
       "    </tr>\n",
       "    <tr>\n",
       "      <th>3</th>\n",
       "      <td>2025-05-05 02:17:48</td>\n",
       "      <td>-31.89</td>\n",
       "      <td>-70.88</td>\n",
       "      <td>88</td>\n",
       "      <td>5.1</td>\n",
       "    </tr>\n",
       "    <tr>\n",
       "      <th>4</th>\n",
       "      <td>2025-05-02 15:23:49</td>\n",
       "      <td>-27.52</td>\n",
       "      <td>-72.48</td>\n",
       "      <td>30</td>\n",
       "      <td>5.8</td>\n",
       "    </tr>\n",
       "  </tbody>\n",
       "</table>\n",
       "</div>"
      ],
      "text/plain": [
       "             Date(UTC)  Latitude  Longitude  Depth  Magnitude\n",
       "0  2025-05-26 03:50:27    -19.63     -69.49     97        5.6\n",
       "1  2025-05-13 00:47:58    -51.25     -72.28     28        5.1\n",
       "2  2025-05-05 09:46:48    -29.49     -71.84     48        5.0\n",
       "3  2025-05-05 02:17:48    -31.89     -70.88     88        5.1\n",
       "4  2025-05-02 15:23:49    -27.52     -72.48     30        5.8"
      ]
     },
     "execution_count": 2,
     "metadata": {},
     "output_type": "execute_result"
    }
   ],
   "source": [
    "df_sismos = pd.read_csv('seismic_data.csv')\n",
    "df_sismos.head()"
   ]
  },
  {
   "cell_type": "code",
   "execution_count": 4,
   "id": "72ac1756",
   "metadata": {},
   "outputs": [
    {
     "name": "stdout",
     "output_type": "stream",
     "text": [
      "<class 'pandas.core.frame.DataFrame'>\n",
      "RangeIndex: 4018 entries, 0 to 4017\n",
      "Data columns (total 5 columns):\n",
      " #   Column     Non-Null Count  Dtype  \n",
      "---  ------     --------------  -----  \n",
      " 0   Date(UTC)  4018 non-null   object \n",
      " 1   Latitude   4018 non-null   float64\n",
      " 2   Longitude  4018 non-null   float64\n",
      " 3   Depth      4018 non-null   int64  \n",
      " 4   Magnitude  4018 non-null   float64\n",
      "dtypes: float64(3), int64(1), object(1)\n",
      "memory usage: 157.1+ KB\n"
     ]
    }
   ],
   "source": [
    "df_sismos.info()"
   ]
  },
  {
   "cell_type": "code",
   "execution_count": null,
   "id": "f584ef58",
   "metadata": {},
   "outputs": [],
   "source": []
  }
 ],
 "metadata": {
  "kernelspec": {
   "display_name": "Python 3",
   "language": "python",
   "name": "python3"
  },
  "language_info": {
   "codemirror_mode": {
    "name": "ipython",
    "version": 3
   },
   "file_extension": ".py",
   "mimetype": "text/x-python",
   "name": "python",
   "nbconvert_exporter": "python",
   "pygments_lexer": "ipython3",
   "version": "3.10.0"
  }
 },
 "nbformat": 4,
 "nbformat_minor": 5
}
