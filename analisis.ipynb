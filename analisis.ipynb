{
 "cells": [
  {
   "cell_type": "code",
   "execution_count": 19,
   "id": "d84a3929",
   "metadata": {},
   "outputs": [],
   "source": [
    "import pandas as pd\n",
    "import matplotlib.pyplot as plt\n",
    "import seaborn as sns\n",
    "import numpy as np\n"
   ]
  },
  {
   "cell_type": "code",
   "execution_count": 3,
   "id": "e946fc40",
   "metadata": {},
   "outputs": [
    {
     "data": {
      "text/html": [
       "<div>\n",
       "<style scoped>\n",
       "    .dataframe tbody tr th:only-of-type {\n",
       "        vertical-align: middle;\n",
       "    }\n",
       "\n",
       "    .dataframe tbody tr th {\n",
       "        vertical-align: top;\n",
       "    }\n",
       "\n",
       "    .dataframe thead th {\n",
       "        text-align: right;\n",
       "    }\n",
       "</style>\n",
       "<table border=\"1\" class=\"dataframe\">\n",
       "  <thead>\n",
       "    <tr style=\"text-align: right;\">\n",
       "      <th></th>\n",
       "      <th>Date(UTC)</th>\n",
       "      <th>Latitude</th>\n",
       "      <th>Longitude</th>\n",
       "      <th>Depth</th>\n",
       "      <th>Magnitude</th>\n",
       "    </tr>\n",
       "  </thead>\n",
       "  <tbody>\n",
       "    <tr>\n",
       "      <th>0</th>\n",
       "      <td>2025-05-26 03:50:27</td>\n",
       "      <td>-19.63</td>\n",
       "      <td>-69.49</td>\n",
       "      <td>97</td>\n",
       "      <td>5.6</td>\n",
       "    </tr>\n",
       "    <tr>\n",
       "      <th>1</th>\n",
       "      <td>2025-05-13 00:47:58</td>\n",
       "      <td>-51.25</td>\n",
       "      <td>-72.28</td>\n",
       "      <td>28</td>\n",
       "      <td>5.1</td>\n",
       "    </tr>\n",
       "    <tr>\n",
       "      <th>2</th>\n",
       "      <td>2025-05-05 09:46:48</td>\n",
       "      <td>-29.49</td>\n",
       "      <td>-71.84</td>\n",
       "      <td>48</td>\n",
       "      <td>5.0</td>\n",
       "    </tr>\n",
       "    <tr>\n",
       "      <th>3</th>\n",
       "      <td>2025-05-05 02:17:48</td>\n",
       "      <td>-31.89</td>\n",
       "      <td>-70.88</td>\n",
       "      <td>88</td>\n",
       "      <td>5.1</td>\n",
       "    </tr>\n",
       "    <tr>\n",
       "      <th>4</th>\n",
       "      <td>2025-05-02 15:23:49</td>\n",
       "      <td>-27.52</td>\n",
       "      <td>-72.48</td>\n",
       "      <td>30</td>\n",
       "      <td>5.8</td>\n",
       "    </tr>\n",
       "  </tbody>\n",
       "</table>\n",
       "</div>"
      ],
      "text/plain": [
       "             Date(UTC)  Latitude  Longitude  Depth  Magnitude\n",
       "0  2025-05-26 03:50:27    -19.63     -69.49     97        5.6\n",
       "1  2025-05-13 00:47:58    -51.25     -72.28     28        5.1\n",
       "2  2025-05-05 09:46:48    -29.49     -71.84     48        5.0\n",
       "3  2025-05-05 02:17:48    -31.89     -70.88     88        5.1\n",
       "4  2025-05-02 15:23:49    -27.52     -72.48     30        5.8"
      ]
     },
     "execution_count": 3,
     "metadata": {},
     "output_type": "execute_result"
    }
   ],
   "source": [
    "df_sismos = pd.read_csv('seismic_data.csv')\n",
    "df_sismos.head()"
   ]
  },
  {
   "cell_type": "code",
   "execution_count": 4,
   "id": "72ac1756",
   "metadata": {},
   "outputs": [
    {
     "name": "stdout",
     "output_type": "stream",
     "text": [
      "<class 'pandas.core.frame.DataFrame'>\n",
      "RangeIndex: 4018 entries, 0 to 4017\n",
      "Data columns (total 5 columns):\n",
      " #   Column     Non-Null Count  Dtype  \n",
      "---  ------     --------------  -----  \n",
      " 0   Date(UTC)  4018 non-null   object \n",
      " 1   Latitude   4018 non-null   float64\n",
      " 2   Longitude  4018 non-null   float64\n",
      " 3   Depth      4018 non-null   int64  \n",
      " 4   Magnitude  4018 non-null   float64\n",
      "dtypes: float64(3), int64(1), object(1)\n",
      "memory usage: 157.1+ KB\n"
     ]
    }
   ],
   "source": [
    "df_sismos.info()"
   ]
  },
  {
   "cell_type": "code",
   "execution_count": 5,
   "id": "f584ef58",
   "metadata": {},
   "outputs": [
    {
     "name": "stdout",
     "output_type": "stream",
     "text": [
      "<class 'pandas.core.frame.DataFrame'>\n",
      "RangeIndex: 4018 entries, 0 to 4017\n",
      "Data columns (total 5 columns):\n",
      " #   Column     Non-Null Count  Dtype         \n",
      "---  ------     --------------  -----         \n",
      " 0   Date(UTC)  4018 non-null   datetime64[ns]\n",
      " 1   Latitude   4018 non-null   float64       \n",
      " 2   Longitude  4018 non-null   float64       \n",
      " 3   Depth      4018 non-null   int64         \n",
      " 4   Magnitude  4018 non-null   float64       \n",
      "dtypes: datetime64[ns](1), float64(3), int64(1)\n",
      "memory usage: 157.1 KB\n"
     ]
    }
   ],
   "source": [
    "df_sismos['Date(UTC)'] = pd.to_datetime(df_sismos['Date(UTC)'])\n",
    "df_sismos.info()"
   ]
  },
  {
   "cell_type": "code",
   "execution_count": 7,
   "id": "e7597894",
   "metadata": {},
   "outputs": [
    {
     "data": {
      "text/plain": [
       "Date(UTC)    0\n",
       "Latitude     0\n",
       "Longitude    0\n",
       "Depth        0\n",
       "Magnitude    0\n",
       "dtype: int64"
      ]
     },
     "execution_count": 7,
     "metadata": {},
     "output_type": "execute_result"
    }
   ],
   "source": [
    "df_sismos.isna().sum()"
   ]
  },
  {
   "cell_type": "code",
   "execution_count": 8,
   "id": "890f11b7",
   "metadata": {},
   "outputs": [
    {
     "data": {
      "text/plain": [
       "3"
      ]
     },
     "execution_count": 8,
     "metadata": {},
     "output_type": "execute_result"
    }
   ],
   "source": [
    "df_sismos.duplicated().sum()"
   ]
  },
  {
   "cell_type": "code",
   "execution_count": 10,
   "id": "7edc9378",
   "metadata": {},
   "outputs": [
    {
     "data": {
      "text/html": [
       "<div>\n",
       "<style scoped>\n",
       "    .dataframe tbody tr th:only-of-type {\n",
       "        vertical-align: middle;\n",
       "    }\n",
       "\n",
       "    .dataframe tbody tr th {\n",
       "        vertical-align: top;\n",
       "    }\n",
       "\n",
       "    .dataframe thead th {\n",
       "        text-align: right;\n",
       "    }\n",
       "</style>\n",
       "<table border=\"1\" class=\"dataframe\">\n",
       "  <thead>\n",
       "    <tr style=\"text-align: right;\">\n",
       "      <th></th>\n",
       "      <th>Date(UTC)</th>\n",
       "      <th>Latitude</th>\n",
       "      <th>Longitude</th>\n",
       "      <th>Depth</th>\n",
       "      <th>Magnitude</th>\n",
       "    </tr>\n",
       "  </thead>\n",
       "  <tbody>\n",
       "    <tr>\n",
       "      <th>1823</th>\n",
       "      <td>2019-11-01 23:43:27</td>\n",
       "      <td>-29.25</td>\n",
       "      <td>-71.59</td>\n",
       "      <td>40</td>\n",
       "      <td>4.2</td>\n",
       "    </tr>\n",
       "    <tr>\n",
       "      <th>2056</th>\n",
       "      <td>2019-04-25 09:33:32</td>\n",
       "      <td>-29.66</td>\n",
       "      <td>-71.30</td>\n",
       "      <td>68</td>\n",
       "      <td>3.8</td>\n",
       "    </tr>\n",
       "    <tr>\n",
       "      <th>2123</th>\n",
       "      <td>2019-03-13 21:46:10</td>\n",
       "      <td>-30.71</td>\n",
       "      <td>-71.41</td>\n",
       "      <td>42</td>\n",
       "      <td>4.1</td>\n",
       "    </tr>\n",
       "  </tbody>\n",
       "</table>\n",
       "</div>"
      ],
      "text/plain": [
       "               Date(UTC)  Latitude  Longitude  Depth  Magnitude\n",
       "1823 2019-11-01 23:43:27    -29.25     -71.59     40        4.2\n",
       "2056 2019-04-25 09:33:32    -29.66     -71.30     68        3.8\n",
       "2123 2019-03-13 21:46:10    -30.71     -71.41     42        4.1"
      ]
     },
     "execution_count": 10,
     "metadata": {},
     "output_type": "execute_result"
    }
   ],
   "source": [
    "duplicados = df_sismos[df_sismos.duplicated()]\n",
    "duplicados"
   ]
  },
  {
   "cell_type": "code",
   "execution_count": 16,
   "id": "a727dcaa",
   "metadata": {},
   "outputs": [],
   "source": [
    "df_sismos.drop_duplicates(inplace=True)"
   ]
  },
  {
   "cell_type": "code",
   "execution_count": 24,
   "id": "aeb85cec",
   "metadata": {},
   "outputs": [
    {
     "data": {
      "text/html": [
       "<div>\n",
       "<style scoped>\n",
       "    .dataframe tbody tr th:only-of-type {\n",
       "        vertical-align: middle;\n",
       "    }\n",
       "\n",
       "    .dataframe tbody tr th {\n",
       "        vertical-align: top;\n",
       "    }\n",
       "\n",
       "    .dataframe thead th {\n",
       "        text-align: right;\n",
       "    }\n",
       "</style>\n",
       "<table border=\"1\" class=\"dataframe\">\n",
       "  <thead>\n",
       "    <tr style=\"text-align: right;\">\n",
       "      <th></th>\n",
       "      <th>Date(UTC)</th>\n",
       "      <th>Latitude</th>\n",
       "      <th>Longitude</th>\n",
       "      <th>Depth</th>\n",
       "      <th>Magnitude</th>\n",
       "    </tr>\n",
       "  </thead>\n",
       "  <tbody>\n",
       "    <tr>\n",
       "      <th>count</th>\n",
       "      <td>4015</td>\n",
       "      <td>4015.000000</td>\n",
       "      <td>4015.000000</td>\n",
       "      <td>4015.000000</td>\n",
       "      <td>4015.000000</td>\n",
       "    </tr>\n",
       "    <tr>\n",
       "      <th>mean</th>\n",
       "      <td>2019-04-08 10:15:13.415442176</td>\n",
       "      <td>-27.836257</td>\n",
       "      <td>-70.850692</td>\n",
       "      <td>61.533250</td>\n",
       "      <td>4.429240</td>\n",
       "    </tr>\n",
       "    <tr>\n",
       "      <th>min</th>\n",
       "      <td>2012-03-03 11:01:47</td>\n",
       "      <td>-62.350000</td>\n",
       "      <td>-75.730000</td>\n",
       "      <td>2.000000</td>\n",
       "      <td>2.300000</td>\n",
       "    </tr>\n",
       "    <tr>\n",
       "      <th>25%</th>\n",
       "      <td>2016-07-13 22:45:27.500000</td>\n",
       "      <td>-31.820000</td>\n",
       "      <td>-71.590000</td>\n",
       "      <td>36.000000</td>\n",
       "      <td>4.000000</td>\n",
       "    </tr>\n",
       "    <tr>\n",
       "      <th>50%</th>\n",
       "      <td>2019-06-02 03:21:17</td>\n",
       "      <td>-29.590000</td>\n",
       "      <td>-71.180000</td>\n",
       "      <td>50.000000</td>\n",
       "      <td>4.400000</td>\n",
       "    </tr>\n",
       "    <tr>\n",
       "      <th>75%</th>\n",
       "      <td>2021-09-03 08:55:19</td>\n",
       "      <td>-21.500000</td>\n",
       "      <td>-70.030000</td>\n",
       "      <td>86.000000</td>\n",
       "      <td>4.800000</td>\n",
       "    </tr>\n",
       "    <tr>\n",
       "      <th>max</th>\n",
       "      <td>2025-05-26 03:50:27</td>\n",
       "      <td>-11.070000</td>\n",
       "      <td>-58.390000</td>\n",
       "      <td>624.000000</td>\n",
       "      <td>8.400000</td>\n",
       "    </tr>\n",
       "    <tr>\n",
       "      <th>std</th>\n",
       "      <td>NaN</td>\n",
       "      <td>5.963907</td>\n",
       "      <td>1.293768</td>\n",
       "      <td>38.288026</td>\n",
       "      <td>0.688822</td>\n",
       "    </tr>\n",
       "  </tbody>\n",
       "</table>\n",
       "</div>"
      ],
      "text/plain": [
       "                           Date(UTC)     Latitude    Longitude        Depth  \\\n",
       "count                           4015  4015.000000  4015.000000  4015.000000   \n",
       "mean   2019-04-08 10:15:13.415442176   -27.836257   -70.850692    61.533250   \n",
       "min              2012-03-03 11:01:47   -62.350000   -75.730000     2.000000   \n",
       "25%       2016-07-13 22:45:27.500000   -31.820000   -71.590000    36.000000   \n",
       "50%              2019-06-02 03:21:17   -29.590000   -71.180000    50.000000   \n",
       "75%              2021-09-03 08:55:19   -21.500000   -70.030000    86.000000   \n",
       "max              2025-05-26 03:50:27   -11.070000   -58.390000   624.000000   \n",
       "std                              NaN     5.963907     1.293768    38.288026   \n",
       "\n",
       "         Magnitude  \n",
       "count  4015.000000  \n",
       "mean      4.429240  \n",
       "min       2.300000  \n",
       "25%       4.000000  \n",
       "50%       4.400000  \n",
       "75%       4.800000  \n",
       "max       8.400000  \n",
       "std       0.688822  "
      ]
     },
     "execution_count": 24,
     "metadata": {},
     "output_type": "execute_result"
    }
   ],
   "source": [
    "df_sismos.describe()"
   ]
  },
  {
   "cell_type": "code",
   "execution_count": 18,
   "id": "1aa8483b",
   "metadata": {},
   "outputs": [
    {
     "data": {
      "text/html": [
       "<div>\n",
       "<style scoped>\n",
       "    .dataframe tbody tr th:only-of-type {\n",
       "        vertical-align: middle;\n",
       "    }\n",
       "\n",
       "    .dataframe tbody tr th {\n",
       "        vertical-align: top;\n",
       "    }\n",
       "\n",
       "    .dataframe thead th {\n",
       "        text-align: right;\n",
       "    }\n",
       "</style>\n",
       "<table border=\"1\" class=\"dataframe\">\n",
       "  <thead>\n",
       "    <tr style=\"text-align: right;\">\n",
       "      <th></th>\n",
       "      <th>Date(UTC)</th>\n",
       "      <th>Latitude</th>\n",
       "      <th>Longitude</th>\n",
       "      <th>Depth</th>\n",
       "      <th>Magnitude</th>\n",
       "    </tr>\n",
       "  </thead>\n",
       "  <tbody>\n",
       "    <tr>\n",
       "      <th>Date(UTC)</th>\n",
       "      <td>1.000000</td>\n",
       "      <td>-0.094495</td>\n",
       "      <td>0.002650</td>\n",
       "      <td>0.065202</td>\n",
       "      <td>-0.290116</td>\n",
       "    </tr>\n",
       "    <tr>\n",
       "      <th>Latitude</th>\n",
       "      <td>-0.094495</td>\n",
       "      <td>1.000000</td>\n",
       "      <td>0.727284</td>\n",
       "      <td>0.383944</td>\n",
       "      <td>0.089707</td>\n",
       "    </tr>\n",
       "    <tr>\n",
       "      <th>Longitude</th>\n",
       "      <td>0.002650</td>\n",
       "      <td>0.727284</td>\n",
       "      <td>1.000000</td>\n",
       "      <td>0.668663</td>\n",
       "      <td>0.104340</td>\n",
       "    </tr>\n",
       "    <tr>\n",
       "      <th>Depth</th>\n",
       "      <td>0.065202</td>\n",
       "      <td>0.383944</td>\n",
       "      <td>0.668663</td>\n",
       "      <td>1.000000</td>\n",
       "      <td>0.212458</td>\n",
       "    </tr>\n",
       "    <tr>\n",
       "      <th>Magnitude</th>\n",
       "      <td>-0.290116</td>\n",
       "      <td>0.089707</td>\n",
       "      <td>0.104340</td>\n",
       "      <td>0.212458</td>\n",
       "      <td>1.000000</td>\n",
       "    </tr>\n",
       "  </tbody>\n",
       "</table>\n",
       "</div>"
      ],
      "text/plain": [
       "           Date(UTC)  Latitude  Longitude     Depth  Magnitude\n",
       "Date(UTC)   1.000000 -0.094495   0.002650  0.065202  -0.290116\n",
       "Latitude   -0.094495  1.000000   0.727284  0.383944   0.089707\n",
       "Longitude   0.002650  0.727284   1.000000  0.668663   0.104340\n",
       "Depth       0.065202  0.383944   0.668663  1.000000   0.212458\n",
       "Magnitude  -0.290116  0.089707   0.104340  0.212458   1.000000"
      ]
     },
     "execution_count": 18,
     "metadata": {},
     "output_type": "execute_result"
    }
   ],
   "source": [
    "df_sismos.corr()"
   ]
  },
  {
   "cell_type": "code",
   "execution_count": 30,
   "id": "970bc266",
   "metadata": {},
   "outputs": [
    {
     "data": {
      "image/png": "[encoded data removed]",
      "text/plain": [
       "<Figure size 1000x500 with 1 Axes>"
      ]
     },
     "metadata": {},
     "output_type": "display_data"
    }
   ],
   "source": [
    "plt.figure(figsize=(10,5))\n",
    "sns.countplot(data=df_sismos,x='Magnitude',hue='peligro')\n",
    "plt.title('Cantidad de terremotos por magnitud')\n",
    "plt.xlabel('Magnitud')\n",
    "plt.ylabel('Cantidad de terremotos')\n",
    "plt.xticks(rotation=90)\n",
    "plt.show()"
   ]
  },
  {
   "cell_type": "code",
   "execution_count": 31,
   "id": "90890fb6",
   "metadata": {},
   "outputs": [
    {
     "data": {
      "text/html": [
       "<div>\n",
       "<style scoped>\n",
       "    .dataframe tbody tr th:only-of-type {\n",
       "        vertical-align: middle;\n",
       "    }\n",
       "\n",
       "    .dataframe tbody tr th {\n",
       "        vertical-align: top;\n",
       "    }\n",
       "\n",
       "    .dataframe thead th {\n",
       "        text-align: right;\n",
       "    }\n",
       "</style>\n",
       "<table border=\"1\" class=\"dataframe\">\n",
       "  <thead>\n",
       "    <tr style=\"text-align: right;\">\n",
       "      <th></th>\n",
       "      <th>Date(UTC)</th>\n",
       "      <th>Latitude</th>\n",
       "      <th>Longitude</th>\n",
       "      <th>Depth</th>\n",
       "      <th>Magnitude</th>\n",
       "      <th>peligro</th>\n",
       "      <th>mes</th>\n",
       "      <th>year</th>\n",
       "    </tr>\n",
       "  </thead>\n",
       "  <tbody>\n",
       "    <tr>\n",
       "      <th>0</th>\n",
       "      <td>2025-05-26 03:50:27</td>\n",
       "      <td>-19.63</td>\n",
       "      <td>-69.49</td>\n",
       "      <td>97</td>\n",
       "      <td>5.6</td>\n",
       "      <td>medio</td>\n",
       "      <td>2025</td>\n",
       "      <td>2025</td>\n",
       "    </tr>\n",
       "    <tr>\n",
       "      <th>1</th>\n",
       "      <td>2025-05-13 00:47:58</td>\n",
       "      <td>-51.25</td>\n",
       "      <td>-72.28</td>\n",
       "      <td>28</td>\n",
       "      <td>5.1</td>\n",
       "      <td>medio</td>\n",
       "      <td>2025</td>\n",
       "      <td>2025</td>\n",
       "    </tr>\n",
       "    <tr>\n",
       "      <th>2</th>\n",
       "      <td>2025-05-05 09:46:48</td>\n",
       "      <td>-29.49</td>\n",
       "      <td>-71.84</td>\n",
       "      <td>48</td>\n",
       "      <td>5.0</td>\n",
       "      <td>medio</td>\n",
       "      <td>2025</td>\n",
       "      <td>2025</td>\n",
       "    </tr>\n",
       "    <tr>\n",
       "      <th>3</th>\n",
       "      <td>2025-05-05 02:17:48</td>\n",
       "      <td>-31.89</td>\n",
       "      <td>-70.88</td>\n",
       "      <td>88</td>\n",
       "      <td>5.1</td>\n",
       "      <td>medio</td>\n",
       "      <td>2025</td>\n",
       "      <td>2025</td>\n",
       "    </tr>\n",
       "    <tr>\n",
       "      <th>4</th>\n",
       "      <td>2025-05-02 15:23:49</td>\n",
       "      <td>-27.52</td>\n",
       "      <td>-72.48</td>\n",
       "      <td>30</td>\n",
       "      <td>5.8</td>\n",
       "      <td>medio</td>\n",
       "      <td>2025</td>\n",
       "      <td>2025</td>\n",
       "    </tr>\n",
       "  </tbody>\n",
       "</table>\n",
       "</div>"
      ],
      "text/plain": [
       "            Date(UTC)  Latitude  Longitude  Depth  Magnitude peligro   mes  \\\n",
       "0 2025-05-26 03:50:27    -19.63     -69.49     97        5.6   medio  2025   \n",
       "1 2025-05-13 00:47:58    -51.25     -72.28     28        5.1   medio  2025   \n",
       "2 2025-05-05 09:46:48    -29.49     -71.84     48        5.0   medio  2025   \n",
       "3 2025-05-05 02:17:48    -31.89     -70.88     88        5.1   medio  2025   \n",
       "4 2025-05-02 15:23:49    -27.52     -72.48     30        5.8   medio  2025   \n",
       "\n",
       "   year  \n",
       "0  2025  \n",
       "1  2025  \n",
       "2  2025  \n",
       "3  2025  \n",
       "4  2025  "
      ]
     },
     "execution_count": 31,
     "metadata": {},
     "output_type": "execute_result"
    }
   ],
   "source": [
    "df_sismos['peligro'] = df_sismos['Magnitude'].apply(lambda x: 'bajo' if x <= 4 else 'medio' if x > 4 and x <= 6 else 'alto') \n",
    "df_sismos['year'] = df_sismos['Date(UTC)'].dt.year\n",
    "df_sismos.head()"
   ]
  },
  {
   "cell_type": "code",
   "execution_count": 35,
   "id": "8b071c99",
   "metadata": {},
   "outputs": [
    {
     "data": {
      "image/png": "[encoded data removed]",
      "text/plain": [
       "<Figure size 1000x900 with 1 Axes>"
      ]
     },
     "metadata": {},
     "output_type": "display_data"
    }
   ],
   "source": [
    "plt.figure(figsize=(10,9))\n",
    "sns.countplot(data=df_sismos,x='year',hue='peligro')\n",
    "plt.title('Sismos por año y peligro')\n",
    "plt.xlabel('Año')\n",
    "plt.ylabel('Cantidad de sismos')\n",
    "plt.xticks(rotation=90)\n",
    "plt.show()"
   ]
  },
  {
   "cell_type": "code",
   "execution_count": 36,
   "id": "28f0c0cc",
   "metadata": {},
   "outputs": [
    {
     "data": {
      "image/png": "[encoded data removed]",
      "text/plain": [
       "<Figure size 640x480 with 1 Axes>"
      ]
     },
     "metadata": {},
     "output_type": "display_data"
    }
   ],
   "source": [
    "sns.countplot(data=df_sismos,x='Depth')\n",
    "plt.show()\n"
   ]
  },
  {
   "cell_type": "code",
   "execution_count": 37,
   "id": "c24d2cda",
   "metadata": {},
   "outputs": [
    {
     "data": {
      "text/plain": [
       "199"
      ]
     },
     "execution_count": 37,
     "metadata": {},
     "output_type": "execute_result"
    }
   ],
   "source": [
    "df_sismos['Depth'].nunique()"
   ]
  },
  {
   "cell_type": "code",
   "execution_count": 45,
   "id": "c626dbfd",
   "metadata": {},
   "outputs": [],
   "source": [
    "grooup = df_sismos.groupby('Magnitude')['Depth'].mean()"
   ]
  },
  {
   "cell_type": "code",
   "execution_count": 46,
   "id": "bb09f7d6",
   "metadata": {},
   "outputs": [
    {
     "data": {
      "text/plain": [
       "Magnitude\n",
       "2.3    11.000000\n",
       "2.6    24.000000\n",
       "2.7    24.250000\n",
       "2.8    23.583333\n",
       "2.9    43.214286\n",
       "Name: Depth, dtype: float64"
      ]
     },
     "execution_count": 46,
     "metadata": {},
     "output_type": "execute_result"
    }
   ],
   "source": [
    "grooup.head()"
   ]
  },
  {
   "cell_type": "code",
   "execution_count": null,
   "id": "92221c47",
   "metadata": {},
   "outputs": [],
   "source": []
  }
 ],
 "metadata": {
  "kernelspec": {
   "display_name": "Python 3",
   "language": "python",
   "name": "python3"
  },
  "language_info": {
   "codemirror_mode": {
    "name": "ipython",
    "version": 3
   },
   "file_extension": ".py",
   "mimetype": "text/x-python",
   "name": "python",
   "nbconvert_exporter": "python",
   "pygments_lexer": "ipython3",
   "version": "3.10.0"
  }
 },
 "nbformat": 4,
 "nbformat_minor": 5
}
